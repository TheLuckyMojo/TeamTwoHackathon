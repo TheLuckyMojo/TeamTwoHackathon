{
 "cells": [
  {
   "cell_type": "markdown",
   "metadata": {},
   "source": [
    "1. Import Dependencies"
   ]
  },
  {
   "cell_type": "code",
   "execution_count": null,
   "metadata": {},
   "outputs": [],
   "source": [
    "!pip install gym\n",
    "!pip install stable_baselines3"
   ]
  },
  {
   "cell_type": "code",
   "execution_count": null,
   "metadata": {},
   "outputs": [],
   "source": [
    "import gym\n",
    "from gym import Env\n",
    "from gym.spaces import Discrete, Dict, MultiBinary, MultiDiscrete \n",
    "import numpy as np\n",
    "import random\n",
    "import os\n",
    "from stable_baselines3 import PPO\n",
    "from stable_baselines3.common.evaluation import evaluate_policy\n",
    "from stable_baselines3.common.env_checker import check_env"
   ]
  },
  {
   "cell_type": "markdown",
   "metadata": {},
   "source": [
    "# Building an Environment"
   ]
  },
  {
   "cell_type": "code",
   "execution_count": null,
   "metadata": {},
   "outputs": [],
   "source": [
    "class ScenarioManager:\n",
    "    def getActionSpace(self):\n",
    "        return MultiDiscrete([2, 6])\n",
    "    def getObservationSpace(self):\n",
    "        return Dict({\"missles\": Discrete(100), \"expectedShipDamage\": MultiDiscrete([3,3,3,3,3,3]), \"currentShipDamage\": MultiDiscrete([3,3,3,3,3,3])})\n",
    "    def getRandomizedState(self):\n",
    "        return {\"missles\": random.randint(1, 99),\n",
    "         \"expectedShipDamage\": \n",
    "         np.array([random.randint(0, 2), \n",
    "         random.randint(0, 2), \n",
    "         random.randint(0, 2), \n",
    "         random.randint(0, 2), \n",
    "         random.randint(0, 2), \n",
    "         random.randint(0, 2)]), \n",
    "         \"currentShipDamage\": np.array([0,0,0,0,0,0])}\n",
    "    def getState(self, numberOfMissles, tD1, tD2, tD3, tD4, tD5, tD6):\n",
    "        return {\"missles\": numberOfMissles,\n",
    "         \"expectedShipDamage\": np.array([tD1, tD2, tD3, tD4, tD5, tD6]), \n",
    "         \"currentShipDamage\": np.array([0,0,0,0,0,0])}\n",
    "    def step(self, state, action):\n",
    "        reward = 0\n",
    "        done = False\n",
    "        numberOfTargets = 6\n",
    "\n",
    "        # Do Nothing\n",
    "        if action[0] == 0:\n",
    "            reward = -10\n",
    "        # Attack Ship\n",
    "        elif action[0] == 1:\n",
    "            # Should we reward here or after hit or even after checking against expected damage?\n",
    "            shipIndex = action[1]\n",
    "\n",
    "            # Reducing reward because overhitting target.\n",
    "            # Might be a place to improve on once we look into defensive ships and attacking jets\n",
    "            if state[\"currentShipDamage\"][shipIndex] >= state[\"expectedShipDamage\"][shipIndex]:\n",
    "                reward = -50\n",
    "            else:\n",
    "                reward = 10\n",
    "            \n",
    "            roll = random.randint(0, 100)\n",
    "            if roll <= 60:\n",
    "                # Should we reward more here?\n",
    "                state[\"currentShipDamage\"][shipIndex] = max(1, state[\"expectedShipDamage\"][shipIndex])\n",
    "            \n",
    "                roll = random.randint(0, 100)\n",
    "                if roll <= 50:\n",
    "                    # Should we reward more here?\n",
    "                    state[\"currentShipDamage\"][shipIndex] = max(2, state[\"expectedShipDamage\"][shipIndex])\n",
    "            \n",
    "        else:\n",
    "            # Should doing nothing have a penalty?\n",
    "            reward = -10\n",
    "        \n",
    "        shouldReward = True\n",
    "        for shipIndex in range(0, numberOfTargets):\n",
    "            if state[\"currentShipDamage\"][shipIndex] < state[\"expectedShipDamage\"][shipIndex]:\n",
    "                shouldReward = False\n",
    "                break\n",
    "        \n",
    "        if shouldReward:\n",
    "            reward = 100\n",
    "            done = True\n",
    "\n",
    "        # Reduce shower length by 1 second\n",
    "        state[\"missles\"] -= 1\n",
    "\n",
    "        # Check if shower is done\n",
    "        if state[\"missles\"] <= 0:\n",
    "            done = True\n",
    "\n",
    "        # Set placeholder for info\n",
    "        info = {}\n",
    "\n",
    "        # Return step information\n",
    "        return state, reward, done, info\n",
    "\n",
    "class ScenarioEnv(Env):\n",
    "    def __init__(self, numberOfMissles, tD1, tD2, tD3, tD4, tD5, tD6):\n",
    "        manager = ScenarioManager()\n",
    "        self.manager = manager\n",
    "        # Actions we can take: 0 - Do Nothing, 1 - Launch\n",
    "        self.action_space = manager.getActionSpace()\n",
    "        # Target Damage state array: 0 - Untouched, 1 - Disabled, 2 - Destroyed\n",
    "        self.observation_space = manager.getObservationSpace()\n",
    "        # store initial state\n",
    "        self.numberOfMissles = numberOfMissles\n",
    "        self.tD1 = tD1\n",
    "        self.tD2 = tD2\n",
    "        self.tD3 = tD3\n",
    "        self.tD4 = tD4\n",
    "        self.tD5 = tD5\n",
    "        self.tD6 = tD6\n",
    "        # Set start state\n",
    "        self.state = self.manager.getState(self.numberOfMissles, self.tD1, self.tD2, self.tD3, self.tD4, self.tD5, self.tD6)\n",
    "\n",
    "    def step(self, action):\n",
    "        # Return step information\n",
    "        return self.manager.step(self.state, action)\n",
    "\n",
    "    def render(self):\n",
    "        # Implement viz\n",
    "        pass\n",
    "\n",
    "    def reset(self):\n",
    "        # Reset shower temperature\n",
    "        self.state = self.manager.getState(self.numberOfMissles, self.tD1, self.tD2, self.tD3, self.tD4, self.tD5, self.tD6)\n",
    "        return self.state\n",
    "\n",
    "class TrainingScenarioEnv(Env):\n",
    "    def __init__(self):\n",
    "        manager = ScenarioManager()\n",
    "        self.manager = manager\n",
    "        # Actions we can take: 0 - Do Nothing, 1 - Launch\n",
    "        self.action_space = manager.getActionSpace()\n",
    "        # Target Damage state array: 0 - Untouched, 1 - Disabled, 2 - Destroyed\n",
    "        self.observation_space = manager.getObservationSpace()\n",
    "        # Set start state\n",
    "        self.state = manager.getRandomizedState()\n",
    "\n",
    "    def step(self, action):\n",
    "        # Return step information\n",
    "        return self.manager.step(self.state, action)\n",
    "\n",
    "    def render(self):\n",
    "        # Implement viz\n",
    "        pass\n",
    "\n",
    "    def reset(self):\n",
    "        # Reset shower temperature\n",
    "        self.state = self.manager.getRandomizedState()\n",
    "        return self.state\n"
   ]
  },
  {
   "cell_type": "markdown",
   "metadata": {},
   "source": [
    "Check Training Environment"
   ]
  },
  {
   "cell_type": "code",
   "execution_count": null,
   "metadata": {},
   "outputs": [],
   "source": [
    "trainingEnv=TrainingScenarioEnv()\n",
    "check_env(trainingEnv, warn=True)"
   ]
  },
  {
   "cell_type": "markdown",
   "metadata": {},
   "source": [
    "Check Scenario Environment"
   ]
  },
  {
   "cell_type": "code",
   "execution_count": null,
   "metadata": {},
   "outputs": [],
   "source": [
    "scenarioEnv = ScenarioEnv(14, 2, 1, 1, 1, 0, 0)\n",
    "check_env(scenarioEnv, warn=True)"
   ]
  },
  {
   "cell_type": "markdown",
   "metadata": {},
   "source": [
    "# Train Model"
   ]
  },
  {
   "cell_type": "code",
   "execution_count": null,
   "metadata": {},
   "outputs": [],
   "source": [
    "log_path = os.path.join('Training', 'Logs')"
   ]
  },
  {
   "cell_type": "code",
   "execution_count": null,
   "metadata": {},
   "outputs": [],
   "source": [
    "trainingEnv.reset()\n",
    "model = PPO(\"MultiInputPolicy\", trainingEnv, verbose=1, tensorboard_log=log_path)"
   ]
  },
  {
   "cell_type": "code",
   "execution_count": null,
   "metadata": {
    "scrolled": true
   },
   "outputs": [],
   "source": [
    "model.learn(total_timesteps=200000)"
   ]
  },
  {
   "cell_type": "markdown",
   "metadata": {},
   "source": [
    "# Save Model"
   ]
  },
  {
   "cell_type": "code",
   "execution_count": null,
   "metadata": {},
   "outputs": [],
   "source": [
    "model.save('PPO')"
   ]
  },
  {
   "cell_type": "markdown",
   "metadata": {},
   "source": [
    "# Evaluate Model"
   ]
  },
  {
   "cell_type": "code",
   "execution_count": null,
   "metadata": {},
   "outputs": [],
   "source": [
    "trainingEnv.reset()\n",
    "evaluate_policy(model, trainingEnv, n_eval_episodes=1000, render=False)"
   ]
  },
  {
   "cell_type": "code",
   "execution_count": null,
   "metadata": {},
   "outputs": [],
   "source": [
    "randomSampleEnv = TrainingScenarioEnv()\n",
    "randomSampleEnvObs = randomSampleEnv.reset()\n",
    "done = False\n",
    "score = 0 \n",
    "\n",
    "while not done:\n",
    "    action, _ = model.predict(randomSampleEnvObs)\n",
    "    randomSampleEnvObs, reward, done, info = randomSampleEnv.step(action)\n",
    "    score+=reward\n",
    "    print('Score:{} Action:{} State:{}'.format(score, action, randomSampleEnvObs))\n",
    "randomSampleEnv.close()"
   ]
  },
  {
   "cell_type": "code",
   "execution_count": null,
   "metadata": {},
   "outputs": [],
   "source": [
    "scenarioEnv.reset()\n",
    "evaluate_policy(model, scenarioEnv, n_eval_episodes=10000, render=False)"
   ]
  },
  {
   "cell_type": "code",
   "execution_count": null,
   "metadata": {},
   "outputs": [],
   "source": [
    "sampleEnvObs = scenarioEnv.reset()\n",
    "done = False\n",
    "score = 0 \n",
    "\n",
    "while not done:\n",
    "    action, _ = model.predict(sampleEnvObs)\n",
    "    sampleEnvObs, reward, done, info = scenarioEnv.step(action)\n",
    "    score+=reward\n",
    "    print('Score:{} Action:{} State:{}'.format(score, action, sampleEnvObs))\n",
    "scenarioEnv.close()"
   ]
  }
 ],
 "metadata": {
  "interpreter": {
   "hash": "2db524e06e9f5f4ffedc911c917cb75e12dbc923643829bf417064a77eb14d37"
  },
  "kernelspec": {
   "display_name": "Python 3.8.10 64-bit",
   "name": "python3"
  },
  "language_info": {
   "codemirror_mode": {
    "name": "ipython",
    "version": 3
   },
   "file_extension": ".py",
   "mimetype": "text/x-python",
   "name": "python",
   "nbconvert_exporter": "python",
   "pygments_lexer": "ipython3",
   "version": "3.8.10"
  }
 },
 "nbformat": 4,
 "nbformat_minor": 2
}
